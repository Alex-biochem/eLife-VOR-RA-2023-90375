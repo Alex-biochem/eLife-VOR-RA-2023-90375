{
 "cells": [
  {
   "cell_type": "markdown",
   "metadata": {},
   "source": [
    "# 13Feb2020 Python analysis of tracks from Phenix for Serena Tsakali by George Chennell"
   ]
  },
  {
   "cell_type": "markdown",
   "metadata": {},
   "source": [
    "Import relevant libraries"
   ]
  },
  {
   "cell_type": "code",
   "execution_count": 1,
   "metadata": {},
   "outputs": [],
   "source": [
    "import pandas as pd\n",
    "import numpy as np\n",
    "import math"
   ]
  },
  {
   "cell_type": "markdown",
   "metadata": {},
   "source": [
    "Import csv file with data avoiding the automatic idex column (index_col = False)"
   ]
  },
  {
   "cell_type": "code",
   "execution_count": 3,
   "metadata": {},
   "outputs": [],
   "source": [
    "tracksframe = pd.read_csv('220719_tracks.csv', index_col=False)"
   ]
  },
  {
   "cell_type": "markdown",
   "metadata": {},
   "source": [
    "is it the right shape?"
   ]
  },
  {
   "cell_type": "code",
   "execution_count": 4,
   "metadata": {},
   "outputs": [
    {
     "data": {
      "text/plain": [
       "(17800, 22)"
      ]
     },
     "execution_count": 4,
     "metadata": {},
     "output_type": "execute_result"
    }
   ],
   "source": [
    "tracksframe.shape"
   ]
  },
  {
   "cell_type": "markdown",
   "metadata": {},
   "source": [
    "That looks correct"
   ]
  },
  {
   "cell_type": "code",
   "execution_count": 5,
   "metadata": {},
   "outputs": [
    {
     "name": "stdout",
     "output_type": "stream",
     "text": [
      "   Row  Column  Plane  Field  Object No Compound  First Timepoint  \\\n",
      "3    6       7      1     19          4    20-FN                0   \n",
      "\n",
      "   Last Timepoint Start Time  End Time  ...  Start Type  End Type Generation  \\\n",
      "3               6   00:00:00  00:37:32  ...       Begin    Cosmos          1   \n",
      "\n",
      "  Parent ID  Root ID  Accumulated Distance [µm]  Displacement [µm]  \\\n",
      "3         4        4                    13.5066            7.97734   \n",
      "\n",
      "   Speed [µm/s]  Displacement X [µm]  Displacement Y [µm]  \n",
      "3      0.005996              1.79378              7.77305  \n",
      "\n",
      "[1 rows x 22 columns]\n"
     ]
    }
   ],
   "source": [
    "print(tracksframe.iloc[[3]])"
   ]
  },
  {
   "cell_type": "markdown",
   "metadata": {},
   "source": [
    "This looks like our data (from row 3)"
   ]
  },
  {
   "cell_type": "markdown",
   "metadata": {},
   "source": [
    "lets extract some useful information about the mean speed of all rows from a specific well.."
   ]
  },
  {
   "cell_type": "code",
   "execution_count": 6,
   "metadata": {},
   "outputs": [
    {
     "name": "stdout",
     "output_type": "stream",
     "text": [
      "Index(['Row', 'Column', 'Plane', 'Field', 'Object No', 'Compound',\n",
      "       'First Timepoint', 'Last Timepoint', 'Start Time', 'End Time',\n",
      "       'Number of Timepoints', 'Duration [s]', 'Start Type', 'End Type',\n",
      "       'Generation', 'Parent ID', 'Root ID', 'Accumulated Distance [µm]',\n",
      "       'Displacement [µm]', 'Speed [µm/s]', 'Displacement X [µm]',\n",
      "       'Displacement Y [µm]'],\n",
      "      dtype='object')\n"
     ]
    }
   ],
   "source": [
    "print(tracksframe.columns)"
   ]
  },
  {
   "cell_type": "code",
   "execution_count": 7,
   "metadata": {},
   "outputs": [],
   "source": [
    "less = tracksframe.drop(columns = ['Plane', 'Field','Start Type', 'End Type','Generation', 'Parent ID', 'Root ID'])"
   ]
  },
  {
   "cell_type": "markdown",
   "metadata": {},
   "source": [
    "so we can list all the indexes that have a condition 'Number of Timepoints' beneath or equal to 4"
   ]
  },
  {
   "cell_type": "code",
   "execution_count": 8,
   "metadata": {},
   "outputs": [
    {
     "data": {
      "text/plain": [
       "(7953,)"
      ]
     },
     "execution_count": 8,
     "metadata": {},
     "output_type": "execute_result"
    }
   ],
   "source": [
    "indexnames = less[less['Number of Timepoints'] < 5].index\n",
    "indexnames.shape"
   ]
  },
  {
   "cell_type": "code",
   "execution_count": 9,
   "metadata": {},
   "outputs": [],
   "source": [
    "less.drop(indexnames, inplace = True)"
   ]
  },
  {
   "cell_type": "code",
   "execution_count": 10,
   "metadata": {},
   "outputs": [
    {
     "data": {
      "text/html": [
       "<div>\n",
       "<style scoped>\n",
       "    .dataframe tbody tr th:only-of-type {\n",
       "        vertical-align: middle;\n",
       "    }\n",
       "\n",
       "    .dataframe tbody tr th {\n",
       "        vertical-align: top;\n",
       "    }\n",
       "\n",
       "    .dataframe thead th {\n",
       "        text-align: right;\n",
       "    }\n",
       "</style>\n",
       "<table border=\"1\" class=\"dataframe\">\n",
       "  <thead>\n",
       "    <tr style=\"text-align: right;\">\n",
       "      <th></th>\n",
       "      <th>Row</th>\n",
       "      <th>Column</th>\n",
       "      <th>Object No</th>\n",
       "      <th>Compound</th>\n",
       "      <th>First Timepoint</th>\n",
       "      <th>Last Timepoint</th>\n",
       "      <th>Start Time</th>\n",
       "      <th>End Time</th>\n",
       "      <th>Number of Timepoints</th>\n",
       "      <th>Duration [s]</th>\n",
       "      <th>Accumulated Distance [µm]</th>\n",
       "      <th>Displacement [µm]</th>\n",
       "      <th>Speed [µm/s]</th>\n",
       "      <th>Displacement X [µm]</th>\n",
       "      <th>Displacement Y [µm]</th>\n",
       "    </tr>\n",
       "  </thead>\n",
       "  <tbody>\n",
       "    <tr>\n",
       "      <th>2</th>\n",
       "      <td>6</td>\n",
       "      <td>7</td>\n",
       "      <td>3</td>\n",
       "      <td>20-FN</td>\n",
       "      <td>0</td>\n",
       "      <td>6</td>\n",
       "      <td>00:00:00</td>\n",
       "      <td>00:37:32</td>\n",
       "      <td>7</td>\n",
       "      <td>2252.64</td>\n",
       "      <td>16.8893</td>\n",
       "      <td>9.10735</td>\n",
       "      <td>0.007498</td>\n",
       "      <td>-3.58756</td>\n",
       "      <td>8.37098</td>\n",
       "    </tr>\n",
       "  </tbody>\n",
       "</table>\n",
       "</div>"
      ],
      "text/plain": [
       "   Row  Column  Object No Compound  First Timepoint  Last Timepoint  \\\n",
       "2    6       7          3    20-FN                0               6   \n",
       "\n",
       "  Start Time  End Time  Number of Timepoints  Duration [s]  \\\n",
       "2   00:00:00  00:37:32                     7       2252.64   \n",
       "\n",
       "   Accumulated Distance [µm]  Displacement [µm]  Speed [µm/s]  \\\n",
       "2                    16.8893            9.10735      0.007498   \n",
       "\n",
       "   Displacement X [µm]  Displacement Y [µm]  \n",
       "2             -3.58756              8.37098  "
      ]
     },
     "execution_count": 10,
     "metadata": {},
     "output_type": "execute_result"
    }
   ],
   "source": [
    "less.iloc[[2]]"
   ]
  },
  {
   "cell_type": "code",
   "execution_count": 63,
   "metadata": {},
   "outputs": [],
   "source": [
    "fltd = less[(less['Row']==3) & (less['Column'] == 3)]"
   ]
  },
  {
   "cell_type": "code",
   "execution_count": 64,
   "metadata": {},
   "outputs": [],
   "source": [
    "fltd2 = fltd[(fltd['First Timepoint'] < 5)]"
   ]
  },
  {
   "cell_type": "code",
   "execution_count": 65,
   "metadata": {},
   "outputs": [
    {
     "name": "stdout",
     "output_type": "stream",
     "text": [
      "0.009899087002989542\n",
      "0.010176256494845357\n"
     ]
    }
   ],
   "source": [
    "print(fltd['Speed [µm/s]'].mean())\n",
    "print(fltd2['Speed [µm/s]'].mean())"
   ]
  },
  {
   "cell_type": "code",
   "execution_count": 66,
   "metadata": {},
   "outputs": [
    {
     "name": "stdout",
     "output_type": "stream",
     "text": [
      "The mean speed of the cells in PBS with a track length longer than 5 timepoints & starting before the 5th time point is is 0.0091214473519553 µm/s\n"
     ]
    }
   ],
   "source": [
    "ft3 = tracksframe[(tracksframe['Number of Timepoints'] >= 5)&(tracksframe['First Timepoint'] < 5) & (tracksframe['Compound'] == 'PBS')]\n",
    "print('The mean speed of the cells in PBS with a track length longer than 5 timepoints & starting before the 5th time point is is', ft3['Speed [µm/s]'].mean(), 'µm/s')"
   ]
  },
  {
   "cell_type": "markdown",
   "metadata": {},
   "source": [
    " "
   ]
  },
  {
   "cell_type": "code",
   "execution_count": 11,
   "metadata": {},
   "outputs": [],
   "source": [
    "compounds = tracksframe.Compound.unique()"
   ]
  },
  {
   "cell_type": "code",
   "execution_count": 12,
   "metadata": {},
   "outputs": [
    {
     "data": {
      "text/plain": [
       "['20-FN',\n",
       " '15-FN',\n",
       " '5-FN+3-OMS',\n",
       " 'PBS+3-OMS',\n",
       " 'PBS',\n",
       " 'FN+3-OMS',\n",
       " '20-FN+3-OMS',\n",
       " '5-FN',\n",
       " '15-FN+3-OMS',\n",
       " 'FN',\n",
       " '10-FN+3-OMS',\n",
       " '10-FN']"
      ]
     },
     "execution_count": 12,
     "metadata": {},
     "output_type": "execute_result"
    }
   ],
   "source": [
    "compounds.tolist()"
   ]
  },
  {
   "cell_type": "code",
   "execution_count": 13,
   "metadata": {},
   "outputs": [
    {
     "name": "stdout",
     "output_type": "stream",
     "text": [
      "['20-FN' '15-FN' '5-FN+3-OMS' 'PBS+3-OMS' 'PBS' 'FN+3-OMS' '20-FN+3-OMS'\n",
      " '5-FN' '15-FN+3-OMS' 'FN' '10-FN+3-OMS' '10-FN']\n"
     ]
    }
   ],
   "source": [
    "print(compounds)"
   ]
  },
  {
   "cell_type": "markdown",
   "metadata": {},
   "source": [
    "To summarise the mean velocity of each compound"
   ]
  },
  {
   "cell_type": "code",
   "execution_count": 14,
   "metadata": {},
   "outputs": [
    {
     "name": "stdout",
     "output_type": "stream",
     "text": [
      "Empty DataFrame\n",
      "Columns: []\n",
      "Index: [20-FN, 15-FN, 5-FN+3-OMS, PBS+3-OMS, PBS, FN+3-OMS, 20-FN+3-OMS, 5-FN, 15-FN+3-OMS, FN, 10-FN+3-OMS, 10-FN] \n",
      "\n",
      "the mean velocity of 247 cells in  20-FN is  0.01096  µm/s with a standard deviation of  0.00546\n",
      "the mean velocity of 251 cells in  15-FN is  0.01043  µm/s with a standard deviation of  0.00439\n",
      "the mean velocity of 298 cells in  5-FN+3-OMS is  0.00952  µm/s with a standard deviation of  0.00417\n",
      "the mean velocity of 271 cells in  PBS+3-OMS is  0.00886  µm/s with a standard deviation of  0.00473\n",
      "the mean velocity of 244 cells in  PBS is  0.00973  µm/s with a standard deviation of  0.00412\n",
      "the mean velocity of 232 cells in  FN+3-OMS is  0.00912  µm/s with a standard deviation of  0.00517\n",
      "the mean velocity of 277 cells in  20-FN+3-OMS is  0.01034  µm/s with a standard deviation of  0.00434\n",
      "the mean velocity of 94 cells in  5-FN is  0.01098  µm/s with a standard deviation of  0.00477\n",
      "the mean velocity of 230 cells in  15-FN+3-OMS is  0.0108  µm/s with a standard deviation of  0.00419\n",
      "the mean velocity of 221 cells in  FN is  0.00994  µm/s with a standard deviation of  0.00413\n",
      "the mean velocity of 322 cells in  10-FN+3-OMS is  0.00935  µm/s with a standard deviation of  0.00416\n",
      "the mean velocity of 289 cells in  10-FN is  0.01001  µm/s with a standard deviation of  0.00439\n",
      "             Count  Speeds µm/s  Speed StDev\n",
      "20-FN          247      0.01096      0.00546\n",
      "15-FN          251      0.01043      0.00439\n",
      "5-FN+3-OMS     298      0.00952      0.00417\n",
      "PBS+3-OMS      271      0.00886      0.00473\n",
      "PBS            244      0.00973      0.00412\n",
      "FN+3-OMS       232      0.00912      0.00517\n",
      "20-FN+3-OMS    277      0.01034      0.00434\n",
      "5-FN            94      0.01098      0.00477\n",
      "15-FN+3-OMS    230      0.01080      0.00419\n",
      "FN             221      0.00994      0.00413\n",
      "10-FN+3-OMS    322      0.00935      0.00416\n",
      "10-FN          289      0.01001      0.00439\n"
     ]
    }
   ],
   "source": [
    "quants = ['Speed', 'StDev']\n",
    "speeds = pd.DataFrame(index = compounds)\n",
    "speed =[]\n",
    "stdev =[]\n",
    "counts = []\n",
    "long =[]\n",
    "\n",
    "print(speeds, \"\\n\")\n",
    "for x in compounds:\n",
    "    ft4 = tracksframe[(tracksframe['Number of Timepoints'] >= 5)&(tracksframe['First Timepoint'] < 5) & (tracksframe['Compound'] == x)]\n",
    "    thismean = ft4['Speed [µm/s]'].mean()\n",
    "    howlong = ft4['Number of Timepoints'].mean()\n",
    "    roundlong = round(howlong, 5)\n",
    "    long.append(roundlong)\n",
    "    thisstd = ft4['Speed [µm/s]'].std()\n",
    "    thisround = round(thismean, 5)\n",
    "    thissr = round(thisstd, 5)\n",
    "    count = ft4['Speed [µm/s]'].count()\n",
    "    counts.append(count)\n",
    "    speed.append(thisround)\n",
    "    stdev.append(thissr)\n",
    "    print('the mean velocity of',count, 'cells in ',x,'is ', thisround, \" µm/s with a standard deviation of \", thissr)\n",
    "\n",
    "speeds['Count']=counts\n",
    "speeds['Speeds µm/s']=speed\n",
    "speeds['Speed StDev']=stdev\n",
    "print(speeds)\n"
   ]
  },
  {
   "cell_type": "markdown",
   "metadata": {},
   "source": [
    "to Summarise the mean distance in each compound"
   ]
  },
  {
   "cell_type": "markdown",
   "metadata": {},
   "source": []
  },
  {
   "cell_type": "code",
   "execution_count": 15,
   "metadata": {},
   "outputs": [
    {
     "name": "stdout",
     "output_type": "stream",
     "text": [
      "the mean accumulated distance of cells in  20-FN is  115.17776  µm with a standard deviation of  123.60264\n",
      "the mean accumulated distance of cells in  15-FN is  107.51254  µm with a standard deviation of  123.77412\n",
      "the mean accumulated distance of cells in  5-FN+3-OMS is  94.74998  µm with a standard deviation of  100.89535\n",
      "the mean accumulated distance of cells in  PBS+3-OMS is  111.56306  µm with a standard deviation of  112.12111\n",
      "the mean accumulated distance of cells in  PBS is  117.36109  µm with a standard deviation of  130.51744\n",
      "the mean accumulated distance of cells in  FN+3-OMS is  108.45193  µm with a standard deviation of  111.02814\n",
      "the mean accumulated distance of cells in  20-FN+3-OMS is  97.95659  µm with a standard deviation of  108.14721\n",
      "the mean accumulated distance of cells in  5-FN is  113.21336  µm with a standard deviation of  108.62415\n",
      "the mean accumulated distance of cells in  15-FN+3-OMS is  81.07965  µm with a standard deviation of  79.384\n",
      "the mean accumulated distance of cells in  FN is  132.91493  µm with a standard deviation of  132.22985\n",
      "the mean accumulated distance of cells in  10-FN+3-OMS is  93.87966  µm with a standard deviation of  101.07455\n",
      "the mean accumulated distance of cells in  10-FN is  99.25513  µm with a standard deviation of  100.19441\n",
      "             Count  Speeds µm/s  Speed StDev  Distances (µm)  Distance StDev\n",
      "20-FN          247      0.01096      0.00546       115.17776       123.60264\n",
      "15-FN          251      0.01043      0.00439       107.51254       123.77412\n",
      "5-FN+3-OMS     298      0.00952      0.00417        94.74998       100.89535\n",
      "PBS+3-OMS      271      0.00886      0.00473       111.56306       112.12111\n",
      "PBS            244      0.00973      0.00412       117.36109       130.51744\n",
      "FN+3-OMS       232      0.00912      0.00517       108.45193       111.02814\n",
      "20-FN+3-OMS    277      0.01034      0.00434        97.95659       108.14721\n",
      "5-FN            94      0.01098      0.00477       113.21336       108.62415\n",
      "15-FN+3-OMS    230      0.01080      0.00419        81.07965        79.38400\n",
      "FN             221      0.00994      0.00413       132.91493       132.22985\n",
      "10-FN+3-OMS    322      0.00935      0.00416        93.87966       101.07455\n",
      "10-FN          289      0.01001      0.00439        99.25513       100.19441\n"
     ]
    }
   ],
   "source": [
    "distances = []\n",
    "diststdev = []\n",
    "for x in compounds:\n",
    "    ft4 = tracksframe[(tracksframe['Number of Timepoints'] >= 5)&(tracksframe['First Timepoint'] < 5) & (tracksframe['Compound'] == x)]\n",
    "    thismean = ft4['Accumulated Distance [µm]'].mean()\n",
    "    thisstd = ft4['Accumulated Distance [µm]'].std()\n",
    "    thisround = round(thismean, 5)\n",
    "    distances.append(thisround)\n",
    "    thissr = round(thisstd, 5)\n",
    "    diststdev.append(thissr)\n",
    "    print('the mean accumulated distance of cells in ',x,'is ', thisround, \" µm with a standard deviation of \", thissr)\n",
    "\n",
    "speeds['Distances (µm)'] = distances\n",
    "speeds['Distance StDev'] = diststdev\n",
    "\n",
    "print(speeds)"
   ]
  },
  {
   "cell_type": "markdown",
   "metadata": {},
   "source": [
    "speeds.to_csv(r'C:\\Users\\George Chennell\\Documents\\Python Scripts\\pandas_analyse_csvs\\analysisresults.csv')"
   ]
  },
  {
   "cell_type": "code",
   "execution_count": 16,
   "metadata": {},
   "outputs": [],
   "source": [
    "speeds.to_csv(r'C:\\Users\\George Chennell\\Documents\\Python Scripts\\pandas_analyse_csvs\\220719_tracks_analysisresults.csv')\n"
   ]
  }
 ],
 "metadata": {
  "kernelspec": {
   "display_name": "Python 3",
   "language": "python",
   "name": "python3"
  },
  "language_info": {
   "codemirror_mode": {
    "name": "ipython",
    "version": 3
   },
   "file_extension": ".py",
   "mimetype": "text/x-python",
   "name": "python",
   "nbconvert_exporter": "python",
   "pygments_lexer": "ipython3",
   "version": "3.8.5"
  }
 },
 "nbformat": 4,
 "nbformat_minor": 2
}
